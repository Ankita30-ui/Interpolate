{
  "nbformat": 4,
  "nbformat_minor": 0,
  "metadata": {
    "colab": {
      "name": "Lagrange_Newton_Interpolate.ipynb",
      "version": "0.3.2",
      "provenance": [],
      "collapsed_sections": []
    },
    "kernelspec": {
      "name": "python3",
      "display_name": "Python 3"
    }
  },
  "cells": [
    {
      "cell_type": "code",
      "metadata": {
        "id": "1pJN8ff2teIy",
        "colab_type": "code",
        "colab": {}
      },
      "source": [
        "import numpy as np\n",
        "import matplotlib.pyplot as plt\n",
        "import math"
      ],
      "execution_count": 0,
      "outputs": []
    },
    {
      "cell_type": "code",
      "metadata": {
        "id": "iKlBumMotrxo",
        "colab_type": "code",
        "colab": {
          "base_uri": "https://localhost:8080/",
          "height": 286
        },
        "outputId": "611b1a1a-3eae-401f-cd03-e8601ce3b8b2"
      },
      "source": [
        "mu, sigma = 0, 500 # mean and standard deviation\n",
        "x = np.arange(1., 20., 1) \n",
        "noise = np.random.normal(mu, sigma, x.shape[0])\n",
        "y = x**3*np.sin(x) \n",
        "plt.plot(x, y, 'r--')\n",
        "plt.show()\n",
        "print('Shape',y.shape)\n",
        "def sigmoid(x, derivative=False):\n",
        "  return x*(1-x) if derivative else 1/(1+np.exp(-x))"
      ],
      "execution_count": 677,
      "outputs": [
        {
          "output_type": "display_data",
          "data": {
            "image/png": "[encoded data removed]",
            "text/plain": [
              "<Figure size 432x288 with 1 Axes>"
            ]
          },
          "metadata": {
            "tags": []
          }
        },
        {
          "output_type": "stream",
          "text": [
            "Shape (19,)\n"
          ],
          "name": "stdout"
        }
      ]
    },
    {
      "cell_type": "code",
      "metadata": {
        "id": "uQlvn0FOt7TO",
        "colab_type": "code",
        "colab": {}
      },
      "source": [
        "## noi suy lagrange\n",
        "class lagrange:\n",
        "  def __init__(self,x,y):\n",
        "    self.x = x\n",
        "    self.y = y \n",
        "  def caculate(self,x_hat):\n",
        "    total = 0 \n",
        "    for index, y_single in enumerate(self.y):\n",
        "      mul_temp = 1\n",
        "      for x_single in self.x:\n",
        "        if x_single != self.x[index]:\n",
        "          mul_temp = mul_temp * ( x_hat - x_single ) / ( self.x[index] - x_single )\n",
        "      total = total + mul_temp * y_single\n",
        "    return total\n",
        "  \n",
        "\n"
      ],
      "execution_count": 0,
      "outputs": []
    },
    {
      "cell_type": "code",
      "metadata": {
        "id": "IsvQ9qWqua8z",
        "colab_type": "code",
        "colab": {
          "base_uri": "https://localhost:8080/",
          "height": 286
        },
        "outputId": "0e7c8c47-9401-4829-9aa7-f57ca7593527"
      },
      "source": [
        "function = lagrange(x,y)\n",
        "x_hat = np.arange( 1. , 20. , 0.11)\n",
        "y_hat =  [ function.caculate(x_) for x_ in x_hat ]\n",
        "plt.plot(x, y, 'r', x_hat,  y_hat , 'b+')\n",
        "plt.show()\n",
        "print(sin.caculate(10))"
      ],
      "execution_count": 694,
      "outputs": [
        {
          "output_type": "display_data",
          "data": {
            "image/png": "[encoded data removed]",
            "text/plain": [
              "<Figure size 432x288 with 1 Axes>"
            ]
          },
          "metadata": {
            "tags": []
          }
        },
        {
          "output_type": "stream",
          "text": [
            "5.4390867092176307e+73\n"
          ],
          "name": "stdout"
        }
      ]
    },
    {
      "cell_type": "code",
      "metadata": {
        "id": "0how7dim2RZw",
        "colab_type": "code",
        "colab": {}
      },
      "source": [
        "## noi suy newton\n",
        "class newton:\n",
        "  def __init__(self,x,y):\n",
        "    self.x = x\n",
        "    self.y = y \n",
        "    self.alpha = np.array([])\n",
        "    self.caculate_parameter()\n",
        "    print('alpha matrix :', self.alpha)\n",
        "    \n",
        "  def caculate_parameter(self):\n",
        "    for index, y_single in enumerate(self.y):\n",
        "      if index != 0 :\n",
        "        total_temp = self.alpha[0]\n",
        "        mul_temp = 1\n",
        "        #print('============== y: ', y_single)\n",
        "        for i , x_single in enumerate(self.x[ 0 : index ]):\n",
        "            mul_temp = mul_temp * ( self.x[index] - x_single ) \n",
        "            if index != 1 and i < index - 1 : \n",
        "              #print( total_temp , ' + ' , self.alpha[i + 1] , ' * ' , mul_temp )\n",
        "              total_temp = total_temp + self.alpha[i + 1] * mul_temp \n",
        "              #print('=> ',total_temp)\n",
        "        #print('mul ',mul_temp)\n",
        "        #print('total: ',total_temp)\n",
        "        alpha_ = ( y_single - total_temp  ) / mul_temp\n",
        "        self.alpha = np.append(self.alpha , [alpha_] , axis = 0 )\n",
        "      else:\n",
        "        self.alpha = np.append(self.alpha,[y_single],axis = 0)\n",
        "      #print('alpha: ', self.alpha)\n",
        "    \n",
        "            \n",
        "  def caculate(self,x_hat):\n",
        "    total = self.alpha[0]\n",
        "    for index, y_single in enumerate(self.y):\n",
        "      #print(index)\n",
        "      mul_temp = 1\n",
        "      for x_single in self.x[0:index+1]:\n",
        "        mul_temp = mul_temp * ( x_hat - x_single )\n",
        "        #print('x :', x_single)\n",
        "      #print('mul: ', mul_temp)\n",
        "      if( index < self.alpha.shape[0] - 1) :\n",
        "        total = total + mul_temp * self.alpha[index+1]\n",
        "      #print('total: ', total)\n",
        "      #print('======================')\n",
        "    return total\n",
        "\n"
      ],
      "execution_count": 0,
      "outputs": []
    },
    {
      "cell_type": "code",
      "metadata": {
        "id": "Ib77IL1gRhQA",
        "colab_type": "code",
        "colab": {
          "base_uri": "https://localhost:8080/",
          "height": 119
        },
        "outputId": "02ecb064-2638-4ce5-8c2d-f66f68be0791"
      },
      "source": [
        "newtonfn = newton(x,y)\n",
        "newtonfn.caculate(10)"
      ],
      "execution_count": 684,
      "outputs": [
        {
          "output_type": "stream",
          "text": [
            "alpha matrix : [ 8.41470985e-01  6.43290843e+00 -4.94852381e+00 -6.48073552e+00\n",
            "  2.85338746e+00  4.33736258e-01 -3.15914075e-01  2.61543951e-02\n",
            "  7.65520981e-03 -1.60880447e-03  3.15611012e-05  2.06111358e-05\n",
            " -2.24866369e-06 -8.84244018e-09  1.84549800e-08 -1.26050471e-09\n",
            " -2.05820090e-11  7.43690682e-12 -3.47726596e-13]\n"
          ],
          "name": "stdout"
        },
        {
          "output_type": "execute_result",
          "data": {
            "text/plain": [
              "-544.0211108893698"
            ]
          },
          "metadata": {
            "tags": []
          },
          "execution_count": 684
        }
      ]
    },
    {
      "cell_type": "code",
      "metadata": {
        "id": "lLVsol01WdAY",
        "colab_type": "code",
        "colab": {
          "base_uri": "https://localhost:8080/",
          "height": 269
        },
        "outputId": "5953d6b4-91f1-46c3-d0a0-0612901b0eb7"
      },
      "source": [
        "x_hat = np.arange( 1 , 21, 0.5)\n",
        "y_hat =  [ newtonfn.caculate(x_) for x_ in x_hat ]\n",
        "plt.plot(x_hat,  x_hat**3*np.sin(x_hat) , 'r', x_hat,  y_hat , 'b+')\n",
        "plt.show()"
      ],
      "execution_count": 700,
      "outputs": [
        {
          "output_type": "display_data",
          "data": {
            "image/png": "[encoded data removed]",
            "text/plain": [
              "<Figure size 432x288 with 1 Axes>"
            ]
          },
          "metadata": {
            "tags": []
          }
        }
      ]
    },
    {
      "cell_type": "code",
      "metadata": {
        "id": "FN7w0EaeWfn2",
        "colab_type": "code",
        "colab": {}
      },
      "source": [
        ""
      ],
      "execution_count": 0,
      "outputs": []
    }
  ]
}